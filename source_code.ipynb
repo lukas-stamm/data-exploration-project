{
 "cells": [
  {
   "cell_type": "code",
   "execution_count": null,
   "metadata": {},
   "outputs": [],
   "source": [
    "import pandas as pd \n",
    "import numpy as np\n",
    "import matplotlib.pyplot as pyplt\n",
    "import seaborn as sns\n",
    "from scipy import stats\n",
    "from sklearn.preprocessing import RobustScaler, PowerTransformer"
   ]
  },
  {
   "cell_type": "code",
   "execution_count": null,
   "metadata": {},
   "outputs": [],
   "source": [
    "og_df = pd.read_csv('Data/healthcare-dataset-stroke-data.csv')\n",
    "og_df.head(3)"
   ]
  },
  {
   "cell_type": "code",
   "execution_count": null,
   "metadata": {},
   "outputs": [],
   "source": [
    "og_df.info()"
   ]
  },
  {
   "cell_type": "code",
   "execution_count": null,
   "metadata": {},
   "outputs": [],
   "source": [
    "og_df.isna().sum()"
   ]
  },
  {
   "cell_type": "code",
   "execution_count": null,
   "metadata": {},
   "outputs": [],
   "source": [
    "for col in og_df:\n",
    "    if og_df[col].nunique() < 10:\n",
    "        print(og_df[col].value_counts())\n",
    "        print(\"\\n\")"
   ]
  },
  {
   "cell_type": "code",
   "execution_count": null,
   "metadata": {},
   "outputs": [],
   "source": [
    "#drop id column due to its irrelevance regarding stroke prediction\n",
    "df_1 = og_df.drop(\"id\", axis=1)\n",
    "df_1.head(3)"
   ]
  },
  {
   "cell_type": "code",
   "execution_count": null,
   "metadata": {},
   "outputs": [],
   "source": [
    "index = df_1.index[df_1[\"gender\"] == \"Other\"]\n",
    "print(df_1.loc[index])\n",
    "\n",
    "#removed the other gender since there is only one entry, leading to unnecessary complexity\n",
    "df_2 = df_1.drop(index)"
   ]
  },
  {
   "cell_type": "code",
   "execution_count": null,
   "metadata": {},
   "outputs": [],
   "source": [
    "#replaced NaN values in the bmi column with the average bmi\n",
    "average_bmi = df_2[\"bmi\"].mean()\n",
    "df_2[\"bmi\"].fillna(average_bmi, inplace=True)"
   ]
  },
  {
   "cell_type": "code",
   "execution_count": null,
   "metadata": {},
   "outputs": [],
   "source": [
    "# Defined the age bins\n",
    "bins = range(0, int(df_2[\"age\"].max()) + 10, 10)\n",
    "\n",
    "# Add a new column \"age_group\" to the DataFrame representing the age group of each person\n",
    "df_2[\"age_group\"] = pd.cut(df_2[\"age\"], bins, right=False)\n",
    "\n",
    "# Group by \"age_group\" and \"gender\" and get the size of each group\n",
    "grouped = df_2.groupby([\"age_group\", \"gender\"]).size().unstack()\n",
    "\n",
    "\n",
    "# Plot the pyramid chart\n",
    "fig, ax = pyplt.subplots()\n",
    "\n",
    "ax.barh(grouped.index.astype(str), grouped[\"Male\"], color='lightblue', label=\"Male\")\n",
    "ax.barh(grouped.index.astype(str), -grouped[\"Female\"], color='lightpink', label=\"Female\")\n",
    "\n",
    "ax.legend()\n",
    "ax.minorticks_on()\n",
    "\n",
    "ax.grid(True, axis=\"x\", color=\"lightgray\", which=\"both\")\n",
    "\n",
    "pyplt.xlabel(\"Count\")\n",
    "pyplt.ylabel(\"Age\")\n",
    "\n",
    "pyplt.show()"
   ]
  },
  {
   "cell_type": "code",
   "execution_count": null,
   "metadata": {},
   "outputs": [],
   "source": [
    "# Defined the age bins\n",
    "bins = range(0, int(df_2[\"age\"].max()) + 10, 10)\n",
    "\n",
    "# Add a new column \"age_group\" to the DataFrame representing the age group of each person\n",
    "df_2[\"age_group\"] = pd.cut(df_2[\"age\"], bins, right=False)\n",
    "\n",
    "# Group by \"age_group\" and \"gender\" and \"stroke\" and get the size of each group\n",
    "grouped = df_2.groupby([\"age_group\", \"gender\", \"stroke\"]).size().unstack(level=[1, 2])\n",
    "\n",
    "#create pyramid chart\n",
    "fig, ax = pyplt.subplots(figsize=(12, 8))\n",
    "\n",
    "#create bar for ech group\n",
    "for stroke_status in [0, 1]:\n",
    "    ax.barh(\n",
    "        grouped.index.astype(str), \n",
    "        grouped[(\"Male\", stroke_status)], \n",
    "        color='lightblue' if stroke_status == 0 else 'blue', \n",
    "        label=f\"Male (Stroke: {stroke_status})\",\n",
    "        left=grouped[(\"Male\", 0)] if stroke_status == 1 else 0\n",
    "    )\n",
    "    ax.barh(\n",
    "        grouped.index.astype(str), \n",
    "        -grouped[(\"Female\", stroke_status)], \n",
    "        color='lightpink' if stroke_status == 0 else 'red', \n",
    "        label=f\"Female (Stroke: {stroke_status})\",\n",
    "        left=-grouped[(\"Female\", 0)] if stroke_status == 1 else 0\n",
    "    )\n",
    "\n",
    "\n",
    "#plot of chart\n",
    "ax.legend()\n",
    "ax.minorticks_on()\n",
    "ax.grid(True, axis=\"x\", color=\"lightgray\", which=\"both\")\n",
    "pyplt.xlabel(\"Count\")\n",
    "pyplt.ylabel(\"Age Group\")\n",
    "pyplt.show()\n"
   ]
  },
  {
   "cell_type": "code",
   "execution_count": null,
   "metadata": {},
   "outputs": [],
   "source": [
    "# labels\n",
    "df_2['stroke_label'] = df_2['stroke'].map({0: 'No Stroke', 1: 'Stroke'})\n",
    "\n",
    "# Age distribution by stroke status\n",
    "pyplt.figure(figsize=(6, 3))\n",
    "sns.boxplot(data=df_2, x='stroke_label', y='age')\n",
    "pyplt.title('Age Distribution by Stroke Status')\n",
    "pyplt.xlabel('Stroke Status')\n",
    "pyplt.ylabel('Age')\n",
    "pyplt.show()\n",
    "\n",
    "# Average glucose level distribution by stroke status\n",
    "pyplt.figure(figsize=(6, 3))\n",
    "sns.boxplot(data=df_2, x='stroke_label', y='avg_glucose_level')\n",
    "pyplt.title('Average Glucose Level Distribution by Stroke Status')\n",
    "pyplt.xlabel('Stroke Status')\n",
    "pyplt.ylabel('Average Glucose Level')\n",
    "pyplt.show()\n",
    "\n",
    "# BMI distribution by stroke status\n",
    "pyplt.figure(figsize=(6, 3))\n",
    "sns.boxplot(data=df_2, x='stroke_label', y='bmi')\n",
    "pyplt.title('BMI Distribution by Stroke Status')\n",
    "pyplt.xlabel('Stroke Status')\n",
    "pyplt.ylabel('BMI')\n",
    "pyplt.show()\n"
   ]
  },
  {
   "cell_type": "code",
   "execution_count": null,
   "metadata": {},
   "outputs": [],
   "source": [
    "#labels\n",
    "df_2['stroke_label'] = df_2['stroke'].map({0: 'No Stroke', 1: 'Stroke'})\n",
    "\n",
    "# Gender distribution by stroke status\n",
    "pyplt.figure(figsize=(6, 3))\n",
    "sns.countplot(data=df_2, x='gender', hue='stroke_label')\n",
    "pyplt.title('Gender Distribution by Stroke Status')\n",
    "pyplt.legend(title='Stroke Status')\n",
    "pyplt.show()\n",
    "\n",
    "# Hypertension distribution by stroke status\n",
    "pyplt.figure(figsize=(6, 3))\n",
    "sns.countplot(data=df_2, x='hypertension', hue='stroke_label')\n",
    "pyplt.title('Hypertension Distribution by Stroke Status')\n",
    "pyplt.legend(title='Stroke Status')\n",
    "pyplt.show()\n",
    "\n",
    "# Heart disease distribution by stroke status\n",
    "pyplt.figure(figsize=(6, 3))\n",
    "sns.countplot(data=df_2, x='heart_disease', hue='stroke_label')\n",
    "pyplt.title('Heart Disease Distribution by Stroke Status')\n",
    "pyplt.legend(title='Stroke Status')\n",
    "pyplt.show()\n",
    "\n",
    "# Ever married distribution by stroke status\n",
    "pyplt.figure(figsize=(6, 3))\n",
    "sns.countplot(data=df_2, x='ever_married', hue='stroke_label')\n",
    "pyplt.title('Ever Married Distribution by Stroke Status')\n",
    "pyplt.legend(title='Stroke Status')\n",
    "pyplt.show()\n",
    "\n",
    "# Work type distribution by stroke status\n",
    "pyplt.figure(figsize=(6, 3))\n",
    "sns.countplot(data=df_2, x='work_type', hue='stroke_label')\n",
    "pyplt.title('Work Type Distribution by Stroke Status')\n",
    "pyplt.xticks(rotation=45)\n",
    "pyplt.legend(title='Stroke Status')\n",
    "pyplt.show()\n",
    "\n",
    "# Residence type distribution by stroke status\n",
    "pyplt.figure(figsize=(6, 3))\n",
    "sns.countplot(data=df_2, x='Residence_type', hue='stroke_label')\n",
    "pyplt.title('Residence Type Distribution by Stroke Status')\n",
    "pyplt.legend(title='Stroke Status')\n",
    "pyplt.show()\n",
    "\n",
    "# Smoking status distribution by stroke status\n",
    "pyplt.figure(figsize=(6, 3))\n",
    "sns.countplot(data=df_2, x='smoking_status', hue='stroke_label')\n",
    "pyplt.title('Smoking Status Distribution by Stroke Status')\n",
    "pyplt.xticks(rotation=45)\n",
    "pyplt.legend(title='Stroke Status')\n",
    "pyplt.show()\n"
   ]
  },
  {
   "cell_type": "code",
   "execution_count": null,
   "metadata": {},
   "outputs": [],
   "source": [
    "\n",
    "fig, ax = pyplt.subplots(figsize=(12, 8))\n",
    "\n",
    "#create boxplot\n",
    "df_2.boxplot(column='age', by=['stroke', 'gender'], ax=ax, grid=False, patch_artist=True, \n",
    "             boxprops=dict(facecolor='lightblue', color='blue'),\n",
    "             medianprops=dict(color='red'),\n",
    "             whiskerprops=dict(color='blue'),\n",
    "             capprops=dict(color='blue'),\n",
    "             flierprops=dict(marker='o', color='blue', alpha=0.5))\n",
    "\n",
    "#add descriptions\n",
    "ax.set_title('Age Distribution by Stroke Status and Gender')\n",
    "ax.set_xlabel('Group')\n",
    "ax.set_ylabel('Age')\n",
    "pyplt.suptitle('')\n",
    "\n",
    "#add x-axis\n",
    "group_labels = ['No Stroke\\nMale', 'No Stroke\\nFemale', 'Stroke\\nMale', 'Stroke\\nFemale']\n",
    "ax.set_xticklabels(group_labels)\n",
    "\n",
    "#plot chart\n",
    "pyplt.show()"
   ]
  },
  {
   "cell_type": "code",
   "execution_count": null,
   "metadata": {},
   "outputs": [],
   "source": [
    "#select only numerical columns to create a heatmap\n",
    "num_df = df_2.select_dtypes(include=['int64', 'float64'])\n",
    "\n",
    "#calculate the correlation matrix\n",
    "corr = num_df.corr()\n",
    "\n",
    "#plot the heatmap\n",
    "sns.heatmap(corr, annot=True, mask = np.triu(np.ones_like(corr, dtype=bool)))"
   ]
  },
  {
   "cell_type": "code",
   "execution_count": null,
   "metadata": {},
   "outputs": [],
   "source": [
    "#select only non-numerical columns to create dummies\n",
    "non_num_df = df_2.select_dtypes(exclude=['int64', 'float64'])\n",
    "\n",
    "#convert non-numerical columns to dummies\n",
    "dummies_df = pd.get_dummies(non_num_df)\n",
    "\n",
    "#convert dummies to integers\n",
    "dummies_df = dummies_df.astype(int)\n",
    "\n",
    "#concatenate the numerical and dummies dataframes\n",
    "completeNum_df = pd.concat([num_df, dummies_df], axis=1)\n",
    "\n",
    "#calculate the correlation matrix\n",
    "completeCorr = completeNum_df.corr()\n",
    "\n",
    "#plot the heatmap\n",
    "pyplt.figure(figsize=(25, 25))\n",
    "sns.heatmap(completeCorr, annot=True, mask = np.triu(np.ones_like(completeCorr, dtype=bool)))\n"
   ]
  },
  {
   "cell_type": "code",
   "execution_count": null,
   "metadata": {},
   "outputs": [],
   "source": [
    "stroke_corr = completeCorr['stroke']\n",
    "\n",
    "# Define a threshold for strong correlation\n",
    "threshold = 0.05\n",
    "\n",
    "# Select values where the absolute correlation with 'stroke' is above the threshold\n",
    "strong_corr = stroke_corr[stroke_corr > threshold]\n",
    "strong_corr.sort_values(ascending=False, inplace=True)\n",
    "\n",
    "# Select values where the absolute correlation with 'stroke' is below the threshold\n",
    "weak_corr = stroke_corr[stroke_corr < threshold]\n",
    "weak_corr.sort_values(ascending=False, inplace=True)\n",
    "\n",
    "print(strong_corr)\n",
    "print(\"\\n\")\n",
    "print(weak_corr)"
   ]
  },
  {
   "cell_type": "code",
   "execution_count": null,
   "metadata": {},
   "outputs": [],
   "source": [
    "z_scores = np.abs(stats.zscore(num_df))\n",
    "\n",
    "threshold = 3\n",
    "\n",
    "outliers = num_df[(z_scores > threshold).any(axis=1)]\n",
    "\n",
    "print(outliers)"
   ]
  },
  {
   "cell_type": "markdown",
   "metadata": {},
   "source": [
    "### Medizinische Risikofaktoren \n",
    "\n",
    "Aus dem Auszug aus \"Der Nervenarzt\" (Weih, M., Müller-Nordhorn, J., Amberger, N., Masuhr, F., Lürtzing, F., Dreier, J. P., & Hetzel, A. (2004). Risikofaktoren des ischämischen Schlaganfalls. Der Nervenarzt, 75(4), 324-335.) gehen folgende Risikofaktoren für einen Schlaganfall hervor:\n",
    "\n",
    "\n",
    "[Hier ist das Dokument verlinkt](https://d1wqtxts1xzle7.cloudfront.net/94400450/s00115-003-1639-620221117-1-1gmosza-libre.pdf?1668693481=&response-content-disposition=inline%3B+filename%3DRisikofaktoren_des_isch_mischen_Schlagan.pdf&Expires=1717179362&Signature=bGb58O9nASWfgCQqpNkQFhmIHglmKAvrY3kmiZBI3tDAi1DlG~VZKiIfktxvCrA0xkuwOhSPU06fMT0U7xKca0pYi2KamjsU3aM9pTJE-jotX7kzQ3rEVYaYzT-BdPSRK2uY4-j2-jQSbrxPOgs0P53mV1YWwopvOcYulQYx0caoDckv1LegUKDGacm6Fd2s0bmvyJO7-11wJOvM2iasaOvPofmJhggWYMWB~~zC4JHON4Kz8XYNrcW3g2ywKfwVX0U2NgCOxHdJ26YFsaLNm~ebMgrEHipW5WF-VFHvR89ro605zx0J5UFukRoP3beZ2abSw8z2lnFyoF9MKRLPzg__&Key-Pair-Id=APKAJLOHF5GGSLRBV4ZA)\n",
    "\n",
    "\n",
    "\n",
    "##### Risikofaktoren für Schlaganfälle: (S.334 f)\n",
    "\n",
    "1. **Hypertonie**: Aufgrund ihrer hohen Prävalenz und ihres starken Einflusses auf das Schlaganfallrisiko ist Hypertonie einer der bedeutendsten Risikofaktoren.\n",
    "\n",
    "\n",
    "2. **Vorhofflimmern**: Die Antikoagulation bei Vorhofflimmern kann das Schlaganfallrisiko signifikant reduzieren.\n",
    "\n",
    "\n",
    "3. **Atherosklerose-bezogene Risikofaktoren**: Dazu gehören hohe Cholesterinwerte, die vor allem für atherothrombotische Infarkte relevant sind. Statine können das Schlaganfallrisiko bei Patienten mit KHK oder Hypercholesterinämie reduzieren.\n",
    "\n",
    "\n",
    "4. **Verhaltensabhängige Lebensstilfaktoren**: Rauchen, Übergewicht, körperliche Inaktivität und ungesunde Ernährung sind ebenfalls wichtige Risikofaktoren, die durch Interventionen modifiziert werden können.\n",
    "\n",
    "\n",
    "5. **Kardiale Risikofaktoren**: Dazu gehören persistierendes Foramen ovale, Herzinsuffizienz und koronare Herzkrankheit, die das Schlaganfallrisiko erhöhen können.\n",
    "\n",
    "\n",
    "6. **Gerinnungsstörungen**: Obwohl das Evidenzniveau und das Verständnis dieser Risikofaktoren heterogen sind, können Gerinnungsstörungen wie APC-Resistenz, Antiphospholipid-Antikörper, Hyperhomozysteinämie und Hyperfibrinogenämie das Risiko erhöhen. \n",
    "\n",
    "\n",
    "7. **Weitere Risikofaktoren**: Dazu gehören Migräne, orale Kontrazeptiva, Entzündungen (z.B. durch CRP) und möglicherweise Infektionen (z.B. durch Chlamydien oder Helicobacter)."
   ]
  },
  {
   "cell_type": "code",
   "execution_count": null,
   "metadata": {},
   "outputs": [],
   "source": [
    "stroke_yes = df_2[df_2['stroke'] == 1]\n",
    "stroke_no = df_2[df_2['stroke'] == 0]\n",
    "\n",
    "fig, ax = pyplt.subplots(nrows=2, ncols=3, figsize=(25, 12))\t\n",
    "\n",
    "sns.boxplot(x=df_2['bmi'], ax=ax[0,0])\n",
    "ax[0,0].set_title('Stroke: Both')\n",
    "\n",
    "sns.boxplot(x=stroke_yes['bmi'], ax=ax[0,1])\n",
    "ax[0,1].set_title('Stroke: Yes')\n",
    "\n",
    "sns.boxplot(x=stroke_no['bmi'], ax=ax[0,2])\n",
    "ax[0,2].set_title('Stroke: No')\n",
    "\n",
    "sns.boxplot(x=df_2['avg_glucose_level'], ax=ax[1,0])\n",
    "ax[1,0].set_title('Stroke: Both')\n",
    "\n",
    "sns.boxplot(x=stroke_yes['avg_glucose_level'], ax=ax[1,1])\n",
    "ax[1,1].set_title('Stroke: Yes')\n",
    "\n",
    "sns.boxplot(x=stroke_no['avg_glucose_level'], ax=ax[1,2])\n",
    "ax[1,2].set_title('Stroke: No')"
   ]
  },
  {
   "cell_type": "code",
   "execution_count": null,
   "metadata": {},
   "outputs": [],
   "source": [
    "df_nml = df_2.drop([\"age_group\", \"stroke_label\"], axis=1)\t\n",
    "\n",
    "pt = PowerTransformer(method='box-cox', standardize=False, copy=False)\n",
    "\n",
    "# Transformation der Daten\n",
    "df_nml[['bmi', 'avg_glucose_level']] = pt.fit_transform(df_nml[['bmi', 'avg_glucose_level']])\n",
    "\n",
    "df_nml\n",
    "\n",
    "stroke_yes = df_nml[df_nml['stroke'] == 1]\n",
    "stroke_no = df_nml[df_nml['stroke'] == 0]\n",
    "\n",
    "fig, ax = pyplt.subplots(nrows=2, ncols=3, figsize=(25, 12))\t\n",
    "\n",
    "sns.boxplot(x=df_nml['bmi'], ax=ax[0,0])\n",
    "ax[0,0].set_title('Stroke: Both')\n",
    "\n",
    "sns.boxplot(x=stroke_yes['bmi'], ax=ax[0,1])\n",
    "ax[0,1].set_title('Stroke: Yes')\n",
    "\n",
    "sns.boxplot(x=stroke_no['bmi'], ax=ax[0,2])\n",
    "ax[0,2].set_title('Stroke: No')\n",
    "\n",
    "sns.boxplot(x=df_nml['avg_glucose_level'], ax=ax[1,0])\n",
    "ax[1,0].set_title('Stroke: Both')\n",
    "\n",
    "sns.boxplot(x=stroke_yes['avg_glucose_level'], ax=ax[1,1])\n",
    "ax[1,1].set_title('Stroke: Yes')\n",
    "\n",
    "sns.boxplot(x=stroke_no['avg_glucose_level'], ax=ax[1,2])\n",
    "ax[1,2].set_title('Stroke: No')"
   ]
  },
  {
   "cell_type": "markdown",
   "metadata": {},
   "source": [
    "<h3>4Balancing<h3>"
   ]
  },
  {
   "cell_type": "code",
   "execution_count": null,
   "metadata": {},
   "outputs": [],
   "source": [
    "\n",
    "from imblearn.over_sampling import SMOTE\n",
    "from imblearn.under_sampling import RandomUnderSampler\n",
    "from collections import Counter\n"
   ]
  },
  {
   "cell_type": "code",
   "execution_count": null,
   "metadata": {},
   "outputs": [],
   "source": [
    "df_nml.info()"
   ]
  },
  {
   "cell_type": "code",
   "execution_count": null,
   "metadata": {},
   "outputs": [],
   "source": [
    "from sklearn.preprocessing import LabelEncoder\n",
    "\n",
    "le = LabelEncoder()\n",
    "categorical_cols = ['gender', 'ever_married', 'work_type', 'Residence_type', 'smoking_status']\n",
    "l3 = []; l4 = [];\n",
    "print('Label Encoder Transformation')\n",
    "for i in categorical_cols:\n",
    "    df_nml[i] = le.fit_transform(df_nml[i])\n",
    "    l3.append(list(df_nml[i].unique())); l4.append(list(le.inverse_transform(df_nml[i].unique())))\n",
    "    print(i,' : ',df_nml[i].unique(),' = ',le.inverse_transform(df_nml[i].unique()))"
   ]
  },
  {
   "cell_type": "code",
   "execution_count": null,
   "metadata": {},
   "outputs": [],
   "source": [
    "df_nml.head()   "
   ]
  },
  {
   "cell_type": "code",
   "execution_count": null,
   "metadata": {},
   "outputs": [],
   "source": [
    "features = df_nml.drop(\"stroke\", axis=1)\n",
    "target = df_nml[\"stroke\"]\n",
    "\n",
    "under_sampler = RandomUnderSampler(sampling_strategy=0.075)\n",
    "smote = SMOTE(sampling_strategy=1)\n",
    "\n",
    "\n",
    "features_under, target_under = under_sampler.fit_resample(features, target)\n",
    "\n",
    "features_balanced, target_balanced = smote.fit_resample(features_under, target_under)\n",
    "\n",
    "Counter(target_balanced)\n",
    "\n"
   ]
  },
  {
   "cell_type": "code",
   "execution_count": null,
   "metadata": {},
   "outputs": [],
   "source": [
    "features_balanced.to_csv('Data/Features.csv', index=False)"
   ]
  },
  {
   "cell_type": "code",
   "execution_count": null,
   "metadata": {},
   "outputs": [],
   "source": [
    "one change"
   ]
  }
 ],
 "metadata": {
  "kernelspec": {
   "display_name": "Python 3",
   "language": "python",
   "name": "python3"
  },
  "language_info": {
   "codemirror_mode": {
    "name": "ipython",
    "version": 3
   },
   "file_extension": ".py",
   "mimetype": "text/x-python",
   "name": "python",
   "nbconvert_exporter": "python",
   "pygments_lexer": "ipython3",
   "version": "3.10.6"
  }
 },
 "nbformat": 4,
 "nbformat_minor": 2
}
